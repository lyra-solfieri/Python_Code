{
  "nbformat": 4,
  "nbformat_minor": 0,
  "metadata": {
    "colab": {
      "name": "Population.ipynb",
      "provenance": [],
      "authorship_tag": "ABX9TyOxE8aPG0ZXQfuQqL7mAkwu",
      "include_colab_link": true
    },
    "kernelspec": {
      "name": "python3",
      "display_name": "Python 3"
    }
  },
  "cells": [
    {
      "cell_type": "markdown",
      "metadata": {
        "id": "view-in-github",
        "colab_type": "text"
      },
      "source": [
        "<a href=\"https://colab.research.google.com/github/lyra-solfieri/Python_Code/blob/master/Population.ipynb\" target=\"_parent\"><img src=\"https://colab.research.google.com/assets/colab-badge.svg\" alt=\"Open In Colab\"/></a>"
      ]
    },
    {
      "cell_type": "code",
      "metadata": {
        "id": "73NdVJuXtfH8",
        "colab_type": "code",
        "colab": {
          "base_uri": "https://localhost:8080/",
          "height": 281
        },
        "outputId": "fb9c5fa8-0f62-4814-d8c3-09b8c36a034c"
      },
      "source": [
        "# Boxplot - diagrama de caixa\n",
        "\n",
        "\n",
        "import matplotlib.pyplot as plt\n",
        "import random \n",
        "vetor = []\n",
        "\n",
        "for i in range(10):\n",
        "  num = random.randint(0,10)\n",
        "  vetor.append(num)\n",
        "\n",
        "plt.boxplot(vetor)\n",
        "plt.title(\"Boxplot\")\n",
        "plt.show()\n",
        "\n"
      ],
      "execution_count": 11,
      "outputs": [
        {
          "output_type": "display_data",
          "data": {
            "image/png": "[encoded data removed]",
            "text/plain": [
              "<Figure size 432x288 with 1 Axes>"
            ]
          },
          "metadata": {
            "tags": []
          }
        }
      ]
    },
    {
      "cell_type": "code",
      "metadata": {
        "id": "K_TSqav1CBVO",
        "colab_type": "code",
        "colab": {}
      },
      "source": [
        ""
      ],
      "execution_count": 0,
      "outputs": []
    }
  ]
}